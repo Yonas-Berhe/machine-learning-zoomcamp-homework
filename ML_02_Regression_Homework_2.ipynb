{
 "cells": [
  {
   "cell_type": "code",
   "execution_count": 1,
   "id": "8d7b11b0",
   "metadata": {},
   "outputs": [],
   "source": [
    "# importing libraries\n",
    "\n",
    "import pandas as pd\n",
    "import wget as wget\n",
    "import numpy as np\n",
    "import seaborn as sns\n",
    "import matplotlib.pyplot as plt"
   ]
  },
  {
   "cell_type": "markdown",
   "id": "52baf9de",
   "metadata": {},
   "source": [
    " # DataSet #"
   ]
  },
  {
   "cell_type": "code",
   "execution_count": 3,
   "id": "dfec542b",
   "metadata": {},
   "outputs": [
    {
     "data": {
      "text/plain": [
       "'car_fuel_efficiency (3).csv'"
      ]
     },
     "execution_count": 3,
     "metadata": {},
     "output_type": "execute_result"
    }
   ],
   "source": [
    "wget.download(\"https://raw.githubusercontent.com/alexeygrigorev/datasets/master/car_fuel_efficiency.csv\")"
   ]
  },
  {
   "cell_type": "code",
   "execution_count": 2,
   "id": "22da9483",
   "metadata": {},
   "outputs": [
    {
     "data": {
      "text/html": [
       "<div>\n",
       "<style scoped>\n",
       "    .dataframe tbody tr th:only-of-type {\n",
       "        vertical-align: middle;\n",
       "    }\n",
       "\n",
       "    .dataframe tbody tr th {\n",
       "        vertical-align: top;\n",
       "    }\n",
       "\n",
       "    .dataframe thead th {\n",
       "        text-align: right;\n",
       "    }\n",
       "</style>\n",
       "<table border=\"1\" class=\"dataframe\">\n",
       "  <thead>\n",
       "    <tr style=\"text-align: right;\">\n",
       "      <th></th>\n",
       "      <th>engine_displacement</th>\n",
       "      <th>num_cylinders</th>\n",
       "      <th>horsepower</th>\n",
       "      <th>vehicle_weight</th>\n",
       "      <th>acceleration</th>\n",
       "      <th>model_year</th>\n",
       "      <th>origin</th>\n",
       "      <th>fuel_type</th>\n",
       "      <th>drivetrain</th>\n",
       "      <th>num_doors</th>\n",
       "      <th>fuel_efficiency_mpg</th>\n",
       "    </tr>\n",
       "  </thead>\n",
       "  <tbody>\n",
       "    <tr>\n",
       "      <th>0</th>\n",
       "      <td>170</td>\n",
       "      <td>3.0</td>\n",
       "      <td>159.0</td>\n",
       "      <td>3413.433759</td>\n",
       "      <td>17.7</td>\n",
       "      <td>2003</td>\n",
       "      <td>Europe</td>\n",
       "      <td>Gasoline</td>\n",
       "      <td>All-wheel drive</td>\n",
       "      <td>0.0</td>\n",
       "      <td>13.231729</td>\n",
       "    </tr>\n",
       "    <tr>\n",
       "      <th>1</th>\n",
       "      <td>130</td>\n",
       "      <td>5.0</td>\n",
       "      <td>97.0</td>\n",
       "      <td>3149.664934</td>\n",
       "      <td>17.8</td>\n",
       "      <td>2007</td>\n",
       "      <td>USA</td>\n",
       "      <td>Gasoline</td>\n",
       "      <td>Front-wheel drive</td>\n",
       "      <td>0.0</td>\n",
       "      <td>13.688217</td>\n",
       "    </tr>\n",
       "    <tr>\n",
       "      <th>2</th>\n",
       "      <td>170</td>\n",
       "      <td>NaN</td>\n",
       "      <td>78.0</td>\n",
       "      <td>3079.038997</td>\n",
       "      <td>15.1</td>\n",
       "      <td>2018</td>\n",
       "      <td>Europe</td>\n",
       "      <td>Gasoline</td>\n",
       "      <td>Front-wheel drive</td>\n",
       "      <td>0.0</td>\n",
       "      <td>14.246341</td>\n",
       "    </tr>\n",
       "    <tr>\n",
       "      <th>3</th>\n",
       "      <td>220</td>\n",
       "      <td>4.0</td>\n",
       "      <td>NaN</td>\n",
       "      <td>2542.392402</td>\n",
       "      <td>20.2</td>\n",
       "      <td>2009</td>\n",
       "      <td>USA</td>\n",
       "      <td>Diesel</td>\n",
       "      <td>All-wheel drive</td>\n",
       "      <td>2.0</td>\n",
       "      <td>16.912736</td>\n",
       "    </tr>\n",
       "    <tr>\n",
       "      <th>4</th>\n",
       "      <td>210</td>\n",
       "      <td>1.0</td>\n",
       "      <td>140.0</td>\n",
       "      <td>3460.870990</td>\n",
       "      <td>14.4</td>\n",
       "      <td>2009</td>\n",
       "      <td>Europe</td>\n",
       "      <td>Gasoline</td>\n",
       "      <td>All-wheel drive</td>\n",
       "      <td>2.0</td>\n",
       "      <td>12.488369</td>\n",
       "    </tr>\n",
       "  </tbody>\n",
       "</table>\n",
       "</div>"
      ],
      "text/plain": [
       "   engine_displacement  num_cylinders  horsepower  vehicle_weight  \\\n",
       "0                  170            3.0       159.0     3413.433759   \n",
       "1                  130            5.0        97.0     3149.664934   \n",
       "2                  170            NaN        78.0     3079.038997   \n",
       "3                  220            4.0         NaN     2542.392402   \n",
       "4                  210            1.0       140.0     3460.870990   \n",
       "\n",
       "   acceleration  model_year  origin fuel_type         drivetrain  num_doors  \\\n",
       "0          17.7        2003  Europe  Gasoline    All-wheel drive        0.0   \n",
       "1          17.8        2007     USA  Gasoline  Front-wheel drive        0.0   \n",
       "2          15.1        2018  Europe  Gasoline  Front-wheel drive        0.0   \n",
       "3          20.2        2009     USA    Diesel    All-wheel drive        2.0   \n",
       "4          14.4        2009  Europe  Gasoline    All-wheel drive        2.0   \n",
       "\n",
       "   fuel_efficiency_mpg  \n",
       "0            13.231729  \n",
       "1            13.688217  \n",
       "2            14.246341  \n",
       "3            16.912736  \n",
       "4            12.488369  "
      ]
     },
     "execution_count": 2,
     "metadata": {},
     "output_type": "execute_result"
    }
   ],
   "source": [
    "df = pd.read_csv(\"car_fuel_efficiency (1).csv\")\n",
    "df.head()"
   ]
  },
  {
   "cell_type": "markdown",
   "id": "268b6997",
   "metadata": {},
   "source": [
    "# Preparing the dataset #"
   ]
  },
  {
   "cell_type": "code",
   "execution_count": 3,
   "id": "3f6f3a31",
   "metadata": {},
   "outputs": [
    {
     "data": {
      "text/html": [
       "<div>\n",
       "<style scoped>\n",
       "    .dataframe tbody tr th:only-of-type {\n",
       "        vertical-align: middle;\n",
       "    }\n",
       "\n",
       "    .dataframe tbody tr th {\n",
       "        vertical-align: top;\n",
       "    }\n",
       "\n",
       "    .dataframe thead th {\n",
       "        text-align: right;\n",
       "    }\n",
       "</style>\n",
       "<table border=\"1\" class=\"dataframe\">\n",
       "  <thead>\n",
       "    <tr style=\"text-align: right;\">\n",
       "      <th></th>\n",
       "      <th>engine_displacement</th>\n",
       "      <th>horsepower</th>\n",
       "      <th>vehicle_weight</th>\n",
       "      <th>model_year</th>\n",
       "      <th>fuel_efficiency_mpg</th>\n",
       "    </tr>\n",
       "  </thead>\n",
       "  <tbody>\n",
       "    <tr>\n",
       "      <th>0</th>\n",
       "      <td>170</td>\n",
       "      <td>159.0</td>\n",
       "      <td>3413.433759</td>\n",
       "      <td>2003</td>\n",
       "      <td>13.231729</td>\n",
       "    </tr>\n",
       "    <tr>\n",
       "      <th>1</th>\n",
       "      <td>130</td>\n",
       "      <td>97.0</td>\n",
       "      <td>3149.664934</td>\n",
       "      <td>2007</td>\n",
       "      <td>13.688217</td>\n",
       "    </tr>\n",
       "    <tr>\n",
       "      <th>2</th>\n",
       "      <td>170</td>\n",
       "      <td>78.0</td>\n",
       "      <td>3079.038997</td>\n",
       "      <td>2018</td>\n",
       "      <td>14.246341</td>\n",
       "    </tr>\n",
       "    <tr>\n",
       "      <th>3</th>\n",
       "      <td>220</td>\n",
       "      <td>NaN</td>\n",
       "      <td>2542.392402</td>\n",
       "      <td>2009</td>\n",
       "      <td>16.912736</td>\n",
       "    </tr>\n",
       "    <tr>\n",
       "      <th>4</th>\n",
       "      <td>210</td>\n",
       "      <td>140.0</td>\n",
       "      <td>3460.870990</td>\n",
       "      <td>2009</td>\n",
       "      <td>12.488369</td>\n",
       "    </tr>\n",
       "  </tbody>\n",
       "</table>\n",
       "</div>"
      ],
      "text/plain": [
       "   engine_displacement  horsepower  vehicle_weight  model_year  \\\n",
       "0                  170       159.0     3413.433759        2003   \n",
       "1                  130        97.0     3149.664934        2007   \n",
       "2                  170        78.0     3079.038997        2018   \n",
       "3                  220         NaN     2542.392402        2009   \n",
       "4                  210       140.0     3460.870990        2009   \n",
       "\n",
       "   fuel_efficiency_mpg  \n",
       "0            13.231729  \n",
       "1            13.688217  \n",
       "2            14.246341  \n",
       "3            16.912736  \n",
       "4            12.488369  "
      ]
     },
     "execution_count": 3,
     "metadata": {},
     "output_type": "execute_result"
    }
   ],
   "source": [
    "df_selected = df[['engine_displacement', 'horsepower', 'vehicle_weight', 'model_year', 'fuel_efficiency_mpg']]\n",
    "df_selected.head()"
   ]
  },
  {
   "cell_type": "markdown",
   "id": "b49cad02",
   "metadata": {},
   "source": [
    "# EDA #"
   ]
  },
  {
   "cell_type": "code",
   "execution_count": 4,
   "id": "0de39ef6",
   "metadata": {},
   "outputs": [
    {
     "name": "stdout",
     "output_type": "stream",
     "text": [
      "count    9704.000000\n",
      "mean       14.985243\n",
      "std         2.556468\n",
      "min         6.200971\n",
      "25%        13.267459\n",
      "50%        15.006037\n",
      "75%        16.707965\n",
      "max        25.967222\n",
      "Name: fuel_efficiency_mpg, dtype: float64\n"
     ]
    },
    {
     "data": {
      "image/png": "[encoded data removed]",
      "text/plain": [
       "<Figure size 1000x600 with 1 Axes>"
      ]
     },
     "metadata": {},
     "output_type": "display_data"
    },
    {
     "data": {
      "image/png": "[encoded data removed]",
      "text/plain": [
       "<Figure size 800x200 with 1 Axes>"
      ]
     },
     "metadata": {},
     "output_type": "display_data"
    }
   ],
   "source": [
    "# Summary statistics\n",
    "print(df_selected['fuel_efficiency_mpg'].describe())\n",
    "\n",
    "# Histogram and KDE plot\n",
    "plt.figure(figsize=(10, 6))\n",
    "sns.histplot(df_selected['fuel_efficiency_mpg'], bins=50, kde=True)\n",
    "plt.title('Distribution of Fuel Efficiency (MPG)')\n",
    "plt.xlabel('Fuel Efficiency (MPG)')\n",
    "plt.ylabel('Frequency')\n",
    "plt.show()\n",
    "\n",
    "# Boxplot to check for long tail\n",
    "plt.figure(figsize=(8, 2))\n",
    "sns.boxplot(x=df_selected['fuel_efficiency_mpg'])\n",
    "plt.title('Boxplot of Fuel Efficiency (MPG)')\n",
    "plt.show()"
   ]
  },
  {
   "cell_type": "markdown",
   "id": "617d8187",
   "metadata": {},
   "source": [
    "#### As we can see from the histogram the data does not have a long tail and its normaly distributed ####"
   ]
  },
  {
   "cell_type": "markdown",
   "id": "00a7a8d5",
   "metadata": {},
   "source": [
    "# Question 1 #"
   ]
  },
  {
   "cell_type": "code",
   "execution_count": 5,
   "id": "83517d75",
   "metadata": {},
   "outputs": [
    {
     "name": "stdout",
     "output_type": "stream",
     "text": [
      "engine_displacement      0\n",
      "horsepower             708\n",
      "vehicle_weight           0\n",
      "model_year               0\n",
      "dtype: int64\n"
     ]
    }
   ],
   "source": [
    "# Check for missing values in the specified columns\n",
    "missing_counts = df_selected[['engine_displacement', 'horsepower', 'vehicle_weight', 'model_year']].isnull().sum()\n",
    "print(missing_counts)"
   ]
  },
  {
   "cell_type": "markdown",
   "id": "91bc9f8b",
   "metadata": {},
   "source": [
    "# Question 2 #"
   ]
  },
  {
   "cell_type": "code",
   "execution_count": null,
   "id": "0b011830",
   "metadata": {},
   "outputs": [
    {
     "data": {
      "text/plain": [
       "149.0"
      ]
     },
     "execution_count": 6,
     "metadata": {},
     "output_type": "execute_result"
    }
   ],
   "source": [
    "# Calculate the median of the 'horsepower' column\n",
    "df_selected['horsepower'].median()"
   ]
  },
  {
   "cell_type": "code",
   "execution_count": 7,
   "id": "a98fff3d",
   "metadata": {},
   "outputs": [],
   "source": [
    "np.random.seed(42)\n",
    "\n",
    "n = len(df_selected)\n",
    "n_val = int(n * 0.2)\n",
    "n_test = int(n * 0.2)\n",
    "n_train = n - n_val - n_test\n",
    "\n",
    "idx = np.arange(n)\n",
    "np.random.shuffle(idx)\n",
    "df_shuffled = df_selected.iloc[idx]\n",
    "\n",
    "df_train = df_shuffled.iloc[:n_train]\n",
    "df_val = df_shuffled.iloc[n_train:n_train + n_val]\n",
    "df_test = df_shuffled.iloc[n_train + n_val:]"
   ]
  },
  {
   "cell_type": "code",
   "execution_count": 8,
   "id": "d87f1fa9",
   "metadata": {},
   "outputs": [],
   "source": [
    "y_train_orig = df_train.fuel_efficiency_mpg.values\n",
    "y_val_orig = df_val.fuel_efficiency_mpg.values\n",
    "y_test_orig = df_test.fuel_efficiency_mpg.values\n",
    "\n",
    "y_train = np.log1p(df_train.fuel_efficiency_mpg.values)\n",
    "y_val = np.log1p(df_val.fuel_efficiency_mpg.values)\n",
    "y_test = np.log1p(df_test.fuel_efficiency_mpg.values)\n",
    "\n",
    "del df_train['fuel_efficiency_mpg']\n",
    "del df_val['fuel_efficiency_mpg']\n",
    "del df_test['fuel_efficiency_mpg']"
   ]
  },
  {
   "cell_type": "markdown",
   "id": "dd20de09",
   "metadata": {},
   "source": [
    "# Question 3 #"
   ]
  },
  {
   "cell_type": "code",
   "execution_count": 9,
   "id": "5941c957",
   "metadata": {},
   "outputs": [],
   "source": [
    "# linear regression implementation\n",
    "\n",
    "def train_linear_regression(X, y):\n",
    "    ones = np.ones(X.shape[0])\n",
    "    X = np.column_stack([ones, X])\n",
    "\n",
    "    XTX = X.T.dot(X)\n",
    "    XTX_inv = np.linalg.inv(XTX)\n",
    "    w = XTX_inv.dot(X.T).dot(y)\n",
    "    \n",
    "    return w[0], w[1:]"
   ]
  },
  {
   "cell_type": "code",
   "execution_count": 10,
   "id": "d99ae19d",
   "metadata": {},
   "outputs": [],
   "source": [
    "# features to use\n",
    "\n",
    "base = ['engine_displacement', 'horsepower', 'vehicle_weight', 'model_year']"
   ]
  },
  {
   "cell_type": "code",
   "execution_count": 11,
   "id": "8896264d",
   "metadata": {},
   "outputs": [],
   "source": [
    "# function to prepare X matrix\n",
    "\n",
    "def prepare_X(df):\n",
    "    df_num = df[base]\n",
    "    df_num = df_num.fillna(0)\n",
    "    X = df_num.values\n",
    "    return X"
   ]
  },
  {
   "cell_type": "markdown",
   "id": "88263e14",
   "metadata": {},
   "source": [
    "### with mean imputation option for horsepower ###"
   ]
  },
  {
   "cell_type": "code",
   "execution_count": 12,
   "id": "ac2a7e02",
   "metadata": {},
   "outputs": [],
   "source": [
    "# with mean imputation option for horsepower\n",
    "\n",
    "df_selected_mean_hp = df_train.copy()\n",
    "df_selected_mean_hp['horsepower'] = df_selected_mean_hp['horsepower'].fillna(df_selected_mean_hp['horsepower'].mean())"
   ]
  },
  {
   "cell_type": "code",
   "execution_count": 13,
   "id": "3d3748c0",
   "metadata": {},
   "outputs": [],
   "source": [
    "\n",
    "X_train = prepare_X(df_selected_mean_hp)\n",
    "w_0, w = train_linear_regression(X_train, y_train)"
   ]
  },
  {
   "cell_type": "code",
   "execution_count": 14,
   "id": "e4c92db4",
   "metadata": {},
   "outputs": [],
   "source": [
    "\n",
    "y_pred = w_0 + X_train.dot(w)"
   ]
  },
  {
   "cell_type": "code",
   "execution_count": 16,
   "id": "0866703b",
   "metadata": {},
   "outputs": [
    {
     "data": {
      "image/png": "[encoded data removed]",
      "text/plain": [
       "<Figure size 600x400 with 1 Axes>"
      ]
     },
     "metadata": {},
     "output_type": "display_data"
    }
   ],
   "source": [
    "plt.figure(figsize=(6, 4))\n",
    "\n",
    "sns.histplot(y_train, label='target', color='red', alpha=0.6, bins=40)\n",
    "sns.histplot(y_pred, label='prediction', color='blue', alpha=0.8, bins=40)\n",
    "\n",
    "plt.legend()\n",
    "\n",
    "plt.ylabel('Frequency')\n",
    "plt.xlabel('Log(Price + 1)')\n",
    "plt.title('Predictions vs actual distribution')\n",
    "\n",
    "plt.show()"
   ]
  },
  {
   "cell_type": "code",
   "execution_count": 17,
   "id": "f9cb358b",
   "metadata": {},
   "outputs": [],
   "source": [
    "# function to calculate RMSE\n",
    "\n",
    "def rmse(y, y_pred):\n",
    "    error = y_pred - y\n",
    "    mse = (error ** 2).mean()\n",
    "    return np.sqrt(mse)"
   ]
  },
  {
   "cell_type": "code",
   "execution_count": 18,
   "id": "96a7fe26",
   "metadata": {},
   "outputs": [
    {
     "data": {
      "text/plain": [
       "0.03581083785900231"
      ]
     },
     "execution_count": 18,
     "metadata": {},
     "output_type": "execute_result"
    }
   ],
   "source": [
    "\n",
    "rmse(y_train, y_pred)"
   ]
  },
  {
   "cell_type": "code",
   "execution_count": 20,
   "id": "3a959e64",
   "metadata": {},
   "outputs": [],
   "source": [
    "# predictions on validation set\n",
    "\n",
    "X_val = prepare_X(df_val)\n",
    "y_pred = w_0 + X_val.dot(w)"
   ]
  },
  {
   "cell_type": "code",
   "execution_count": 21,
   "id": "63db5a7b",
   "metadata": {},
   "outputs": [
    {
     "data": {
      "text/plain": [
       "0.04497119648506958"
      ]
     },
     "execution_count": 21,
     "metadata": {},
     "output_type": "execute_result"
    }
   ],
   "source": [
    "rmse(y_val, y_pred)"
   ]
  },
  {
   "cell_type": "markdown",
   "id": "a7841bef",
   "metadata": {},
   "source": [
    "### with 0 imputation option for horsepower ###"
   ]
  },
  {
   "cell_type": "code",
   "execution_count": 22,
   "id": "2b614b27",
   "metadata": {},
   "outputs": [],
   "source": [
    "# with 0 imputation option for horsepower\n",
    "df_selected_0_hp = df_train.copy()\n",
    "df_selected_0_hp['horsepower'] = df_selected_0_hp['horsepower'].fillna(0)\n",
    "\n",
    "X_train = prepare_X(df_selected_0_hp)\n",
    "w_0, w = train_linear_regression(X_train, y_train)\n",
    "y_pred = w_0 + X_train.dot(w)"
   ]
  },
  {
   "cell_type": "code",
   "execution_count": 23,
   "id": "b5d85fac",
   "metadata": {},
   "outputs": [
    {
     "data": {
      "image/png": "[encoded data removed]",
      "text/plain": [
       "<Figure size 600x400 with 1 Axes>"
      ]
     },
     "metadata": {},
     "output_type": "display_data"
    }
   ],
   "source": [
    "plt.figure(figsize=(6, 4))\n",
    "\n",
    "sns.histplot(y_train, label='target', color='red', alpha=0.6, bins=40)\n",
    "sns.histplot(y_pred, label='prediction', color='blue', alpha=0.8, bins=40)\n",
    "\n",
    "plt.legend()\n",
    "\n",
    "plt.ylabel('Frequency')\n",
    "plt.xlabel('Log(Price + 1)')\n",
    "plt.title('Predictions vs actual distribution')\n",
    "\n",
    "plt.show()"
   ]
  },
  {
   "cell_type": "code",
   "execution_count": 24,
   "id": "9ce801c3",
   "metadata": {},
   "outputs": [
    {
     "data": {
      "text/plain": [
       "0.039979257823471975"
      ]
     },
     "execution_count": 24,
     "metadata": {},
     "output_type": "execute_result"
    }
   ],
   "source": [
    "X_val = prepare_X(df_val)\n",
    "y_pred = w_0 + X_val.dot(w)\n",
    "rmse(y_val, y_pred)"
   ]
  },
  {
   "cell_type": "code",
   "execution_count": 25,
   "id": "83650dfd",
   "metadata": {},
   "outputs": [
    {
     "data": {
      "text/html": [
       "<div>\n",
       "<style scoped>\n",
       "    .dataframe tbody tr th:only-of-type {\n",
       "        vertical-align: middle;\n",
       "    }\n",
       "\n",
       "    .dataframe tbody tr th {\n",
       "        vertical-align: top;\n",
       "    }\n",
       "\n",
       "    .dataframe thead th {\n",
       "        text-align: right;\n",
       "    }\n",
       "</style>\n",
       "<table border=\"1\" class=\"dataframe\">\n",
       "  <thead>\n",
       "    <tr style=\"text-align: right;\">\n",
       "      <th></th>\n",
       "      <th>Imputation Method</th>\n",
       "      <th>RMSE</th>\n",
       "    </tr>\n",
       "  </thead>\n",
       "  <tbody>\n",
       "    <tr>\n",
       "      <th>0</th>\n",
       "      <td>mean</td>\n",
       "      <td>0.0449</td>\n",
       "    </tr>\n",
       "    <tr>\n",
       "      <th>1</th>\n",
       "      <td>0</td>\n",
       "      <td>0.0399</td>\n",
       "    </tr>\n",
       "  </tbody>\n",
       "</table>\n",
       "</div>"
      ],
      "text/plain": [
       "  Imputation Method    RMSE\n",
       "0              mean  0.0449\n",
       "1                 0  0.0399"
      ]
     },
     "execution_count": 25,
     "metadata": {},
     "output_type": "execute_result"
    }
   ],
   "source": [
    "# Create a table for RMSE values\n",
    "rmse_table = pd.DataFrame({\n",
    "    'Imputation Method': ['mean', '0'],\n",
    "    'RMSE': [0.0449, 0.0399]\n",
    "})\n",
    "\n",
    "rmse_table"
   ]
  },
  {
   "cell_type": "markdown",
   "id": "8c1a8e7e",
   "metadata": {},
   "source": [
    "# Question 4 #"
   ]
  },
  {
   "cell_type": "code",
   "execution_count": 26,
   "id": "2934d9ef",
   "metadata": {},
   "outputs": [],
   "source": [
    "# linear regression with regularization\n",
    "\n",
    "def train_linear_regression_reg(X, y, r=0.0):\n",
    "    ones = np.ones(X.shape[0])\n",
    "    X = np.column_stack([ones, X])\n",
    "\n",
    "    XTX = X.T.dot(X)\n",
    "    reg = r * np.eye(XTX.shape[0])\n",
    "    XTX = XTX + reg\n",
    "\n",
    "    XTX_inv = np.linalg.inv(XTX)\n",
    "    w = XTX_inv.dot(X.T).dot(y)\n",
    "    \n",
    "    return w[0], w[1:]"
   ]
  },
  {
   "cell_type": "code",
   "execution_count": 27,
   "id": "c6f5279b",
   "metadata": {},
   "outputs": [],
   "source": [
    "X_train = prepare_X(df_selected_0_hp)"
   ]
  },
  {
   "cell_type": "code",
   "execution_count": 28,
   "id": "afa27ff1",
   "metadata": {},
   "outputs": [
    {
     "name": "stdout",
     "output_type": "stream",
     "text": [
      "r=    0, w_0=3.66, weights=[ 2.14827083e-06  2.21209296e-04 -3.23460699e-04  1.64673231e-05]\n",
      "r= 0.01, w_0=3.17, weights=[ 3.04741123e-06  2.21206603e-04 -3.23358757e-04  2.62739024e-04]\n",
      "r=    1, w_0=0.22, weights=[ 8.39433529e-06  2.21190579e-04 -3.22752535e-04  1.72724144e-03]\n",
      "r=   10, w_0=0.02, weights=[ 8.75140984e-06  2.21189451e-04 -3.22712045e-04  1.82501293e-03]\n",
      "r=  100, w_0=0.00, weights=[ 8.79046139e-06  2.21188756e-04 -3.22707550e-04  1.83540790e-03]\n"
     ]
    }
   ],
   "source": [
    "# testing different values of r\n",
    "\n",
    "for r in [0, 0.01, 1, 10, 100]:\n",
    "    w_0, w = train_linear_regression_reg(X_train, y_train, r=r)\n",
    "    print(f\"r={r:5}, w_0={w_0:.2f}, weights={w}\")"
   ]
  },
  {
   "cell_type": "code",
   "execution_count": 29,
   "id": "4653db2a",
   "metadata": {},
   "outputs": [
    {
     "name": "stdout",
     "output_type": "stream",
     "text": [
      "train 0.03908632539265249\n",
      "val 0.04\n"
     ]
    }
   ],
   "source": [
    "X_train = prepare_X(df_selected_0_hp)\n",
    "w_0, w = train_linear_regression_reg(X_train, y_train, r=0)\n",
    "\n",
    "y_pred = w_0 + X_train.dot(w)\n",
    "print('train', rmse(y_train, y_pred))\n",
    "\n",
    "X_val = prepare_X(df_val)\n",
    "y_pred = w_0 + X_val.dot(w)\n",
    "print('val', round(rmse(y_val, y_pred), 2))"
   ]
  },
  {
   "cell_type": "code",
   "execution_count": 30,
   "id": "590e80cb",
   "metadata": {},
   "outputs": [
    {
     "name": "stdout",
     "output_type": "stream",
     "text": [
      "train 0.039120822415051305\n",
      "val 0.04\n"
     ]
    }
   ],
   "source": [
    "X_train = prepare_X(df_selected_0_hp)\n",
    "w_0, w = train_linear_regression_reg(X_train, y_train, r=0.01)\n",
    "\n",
    "y_pred = w_0 + X_train.dot(w)\n",
    "print('train', rmse(y_train, y_pred))\n",
    "\n",
    "X_val = prepare_X(df_val)\n",
    "y_pred = w_0 + X_val.dot(w)\n",
    "print('val', round(rmse(y_val, y_pred), 2))"
   ]
  },
  {
   "cell_type": "code",
   "execution_count": 31,
   "id": "d605a395",
   "metadata": {},
   "outputs": [
    {
     "name": "stdout",
     "output_type": "stream",
     "text": [
      "train 0.04071772167568004\n",
      "val 0.04\n"
     ]
    }
   ],
   "source": [
    "X_train = prepare_X(df_selected_0_hp)\n",
    "w_0, w = train_linear_regression_reg(X_train, y_train, r=1)\n",
    "\n",
    "y_pred = w_0 + X_train.dot(w)\n",
    "print('train', rmse(y_train, y_pred))\n",
    "\n",
    "X_val = prepare_X(df_val)\n",
    "y_pred = w_0 + X_val.dot(w)\n",
    "print('val', round(rmse(y_val, y_pred), 2))"
   ]
  },
  {
   "cell_type": "code",
   "execution_count": 32,
   "id": "070ef8f3",
   "metadata": {},
   "outputs": [
    {
     "name": "stdout",
     "output_type": "stream",
     "text": [
      "train 0.04090524606547274\n",
      "val 0.04\n"
     ]
    }
   ],
   "source": [
    "X_train = prepare_X(df_selected_0_hp)\n",
    "w_0, w = train_linear_regression_reg(X_train, y_train, r=10)\n",
    "\n",
    "y_pred = w_0 + X_train.dot(w)\n",
    "print('train', rmse(y_train, y_pred))\n",
    "\n",
    "X_val = prepare_X(df_val)\n",
    "y_pred = w_0 + X_val.dot(w)\n",
    "print('val', round(rmse(y_val, y_pred), 2))"
   ]
  },
  {
   "cell_type": "code",
   "execution_count": 33,
   "id": "2c56dcf8",
   "metadata": {},
   "outputs": [
    {
     "name": "stdout",
     "output_type": "stream",
     "text": [
      "train 0.04092574472022829\n",
      "val 0.04\n"
     ]
    }
   ],
   "source": [
    "X_train = prepare_X(df_selected_0_hp)\n",
    "w_0, w = train_linear_regression_reg(X_train, y_train, r=100)\n",
    "\n",
    "y_pred = w_0 + X_train.dot(w)\n",
    "print('train', rmse(y_train, y_pred))\n",
    "\n",
    "X_val = prepare_X(df_val)\n",
    "y_pred = w_0 + X_val.dot(w)\n",
    "print('val', round(rmse(y_val, y_pred), 2))"
   ]
  },
  {
   "cell_type": "code",
   "execution_count": 34,
   "id": "844de250",
   "metadata": {},
   "outputs": [
    {
     "name": "stdout",
     "output_type": "stream",
     "text": [
      "     0 0.04\n",
      "  0.01 0.04\n",
      "     1 0.04\n",
      "    10 0.04\n",
      "   100 0.04\n"
     ]
    }
   ],
   "source": [
    "X_train = prepare_X(df_selected_0_hp)\n",
    "X_val = prepare_X(df_val)\n",
    "\n",
    "for r in [0, 0.01, 1, 10, 100]:\n",
    "    w_0, w = train_linear_regression_reg(X_train, y_train, r=r)\n",
    "    y_pred = w_0 + X_val.dot(w)\n",
    "    #print('%6s' %r, rmse(y_val, y_pred))\n",
    "    print('%6s' %r, round(rmse(y_val, y_pred), 2))"
   ]
  },
  {
   "cell_type": "code",
   "execution_count": 35,
   "id": "1c746f8c",
   "metadata": {},
   "outputs": [
    {
     "name": "stdout",
     "output_type": "stream",
     "text": [
      "     0 0.039979257823471975\n",
      "  0.01 0.0399778720173045\n",
      "     1 0.0413538515083068\n",
      "    10 0.04152680123751742\n",
      "   100 0.04154575656081093\n"
     ]
    }
   ],
   "source": [
    "X_train = prepare_X(df_selected_0_hp)\n",
    "X_val = prepare_X(df_val)\n",
    "\n",
    "for r in [0, 0.01, 1, 10, 100]:\n",
    "    w_0, w = train_linear_regression_reg(X_train, y_train, r=r)\n",
    "    y_pred = w_0 + X_val.dot(w)\n",
    "    print('%6s' %r, rmse(y_val, y_pred))"
   ]
  },
  {
   "cell_type": "markdown",
   "id": "104dea88",
   "metadata": {},
   "source": [
    "# Question 5 #"
   ]
  },
  {
   "cell_type": "code",
   "execution_count": 36,
   "id": "68bd6f4c",
   "metadata": {},
   "outputs": [
    {
     "name": "stdout",
     "output_type": "stream",
     "text": [
      "0.038\n",
      "0.039\n",
      "0.039\n",
      "0.039\n",
      "0.037\n",
      "0.039\n",
      "0.039\n",
      "0.038\n",
      "0.04\n",
      "0.039\n",
      "RMSE STD: 0.001\n"
     ]
    }
   ],
   "source": [
    "rmse_scores = []\n",
    "\n",
    "for seed in range(10):\n",
    "    np.random.seed(seed)\n",
    "    idx = np.arange(n)\n",
    "    np.random.shuffle(idx)\n",
    "    df_shuffled = df_selected.iloc[idx]\n",
    "\n",
    "    n_train = int(n * 0.6)\n",
    "    n_val = int(n * 0.2)\n",
    "    n_test = n - n_train - n_val\n",
    "\n",
    "    df_train = df_shuffled.iloc[:n_train].copy()\n",
    "    df_val = df_shuffled.iloc[n_train:n_train + n_val].copy()\n",
    "    df_test = df_shuffled.iloc[n_train + n_val:].copy()\n",
    "\n",
    "    df_train_0_hp = df_train.copy()\n",
    "    df_train_0_hp['horsepower'] = df_train_0_hp['horsepower'].fillna(0)\n",
    "    X_train = df_train_0_hp[base].values\n",
    "    y_train = np.log1p(df_train['fuel_efficiency_mpg'].values)\n",
    "\n",
    "    df_val_0_hp = df_val.copy()\n",
    "    df_val_0_hp['horsepower'] = df_val_0_hp['horsepower'].fillna(0)\n",
    "    X_val = df_val_0_hp[base].values\n",
    "    y_val = np.log1p(df_val['fuel_efficiency_mpg'].values)\n",
    "\n",
    "    w_0, w = train_linear_regression(X_train, y_train)\n",
    "    y_pred = w_0 + X_val.dot(w)\n",
    "    score = rmse(y_val, y_pred)\n",
    "    rmse_scores.append(score)\n",
    "\n",
    "std = np.std(rmse_scores)\n",
    "\n",
    "# additional code to list the rmse scores\n",
    "for score in rmse_scores:\n",
    "    print(round(score, 3))\n",
    "\n",
    "print(\"RMSE STD:\", round(std, 3))"
   ]
  },
  {
   "cell_type": "markdown",
   "id": "9a70ecda",
   "metadata": {},
   "source": [
    "# Question 6 #"
   ]
  },
  {
   "cell_type": "code",
   "execution_count": 37,
   "id": "c287cd89",
   "metadata": {},
   "outputs": [
    {
     "name": "stdout",
     "output_type": "stream",
     "text": [
      "Test RMSE: 0.0392\n"
     ]
    }
   ],
   "source": [
    "# Set seed and shuffle indices\n",
    "np.random.seed(9)\n",
    "idx = np.arange(n)\n",
    "np.random.shuffle(idx)\n",
    "df_shuffled = df_selected.iloc[idx]\n",
    "\n",
    "# Split sizes\n",
    "n_train = int(n * 0.6)\n",
    "n_val = int(n * 0.2)\n",
    "n_test = n - n_train - n_val\n",
    "\n",
    "# Split datasets\n",
    "df_train = df_shuffled.iloc[:n_train].copy()\n",
    "df_val = df_shuffled.iloc[n_train:n_train + n_val].copy()\n",
    "df_test = df_shuffled.iloc[n_train + n_val:].copy()\n",
    "\n",
    "# Combine train and validation sets\n",
    "df_train_val = pd.concat([df_train, df_val])\n",
    "\n",
    "# Combine train and validation sets for y values\n",
    "y_train_val = np.log1p(df_train_val['fuel_efficiency_mpg'].values)\n",
    "\n",
    "# Fill missing values with 0\n",
    "df_train_val_0_hp = df_train_val.copy()\n",
    "df_train_val_0_hp['horsepower'] = df_train_val_0_hp['horsepower'].fillna(0)\n",
    "X_train_val = df_train_val_0_hp[base].values\n",
    "y_train_val = np.log1p(df_train_val['fuel_efficiency_mpg'].values)\n",
    "\n",
    "df_test_0_hp = df_test.copy()\n",
    "df_test_0_hp['horsepower'] = df_test_0_hp['horsepower'].fillna(0)\n",
    "X_test = df_test_0_hp[base].values\n",
    "y_test = np.log1p(df_test['fuel_efficiency_mpg'].values)\n",
    "\n",
    "# Train model with r=0.001\n",
    "w_0, w = train_linear_regression_reg(X_train_val, y_train_val, r=0.001)\n",
    "\n",
    "# Predict and calculate RMSE on test set\n",
    "y_pred = w_0 + X_test.dot(w)\n",
    "test_rmse = rmse(y_test, y_pred)\n",
    "print(\"Test RMSE:\", round(test_rmse, 4))"
   ]
  },
  {
   "cell_type": "code",
   "execution_count": 38,
   "id": "88ff622d",
   "metadata": {},
   "outputs": [
    {
     "name": "stdout",
     "output_type": "stream",
     "text": [
      "Train 0.03898196364597112\n",
      "Test 0.0392\n"
     ]
    }
   ],
   "source": [
    "X_train = prepare_X(df_train_val_0_hp)\n",
    "w_0, w = train_linear_regression_reg(X_train, y_train_val, r=0.001)\n",
    "\n",
    "y_pred = w_0 + X_train.dot(w)\n",
    "print('Train', rmse(y_train_val, y_pred))\n",
    "\n",
    "X_test = prepare_X(df_test)\n",
    "y_pred = w_0 + X_test.dot(w)\n",
    "print('Test', round(rmse(y_test, y_pred), 4))"
   ]
  }
 ],
 "metadata": {
  "kernelspec": {
   "display_name": "base",
   "language": "python",
   "name": "python3"
  },
  "language_info": {
   "codemirror_mode": {
    "name": "ipython",
    "version": 3
   },
   "file_extension": ".py",
   "mimetype": "text/x-python",
   "name": "python",
   "nbconvert_exporter": "python",
   "pygments_lexer": "ipython3",
   "version": "3.12.7"
  }
 },
 "nbformat": 4,
 "nbformat_minor": 5
}
